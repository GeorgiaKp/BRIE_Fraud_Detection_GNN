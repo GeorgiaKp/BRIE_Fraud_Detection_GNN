{
  "nbformat": 4,
  "nbformat_minor": 0,
  "metadata": {
    "colab": {
      "provenance": []
    },
    "kernelspec": {
      "name": "python3",
      "display_name": "Python 3"
    },
    "language_info": {
      "name": "python"
    }
  },
  "cells": [
    {
      "cell_type": "code",
      "execution_count": null,
      "metadata": {
        "colab": {
          "base_uri": "https://localhost:8080/"
        },
        "id": "vJgBlLoP_roV",
        "outputId": "cea086ba-6177-4fcb-ff08-30b279a31ec4"
      },
      "outputs": [
        {
          "output_type": "stream",
          "name": "stdout",
          "text": [
            "Mounted at /content/drive\n"
          ]
        }
      ],
      "source": [
        "from google.colab import drive\n",
        "drive.mount('/content/drive')"
      ]
    },
    {
      "cell_type": "code",
      "source": [
        "cd drive/MyDrive/brie_model/data"
      ],
      "metadata": {
        "colab": {
          "base_uri": "https://localhost:8080/"
        },
        "id": "URE7nqzM_1oQ",
        "outputId": "e1e1ec14-0ece-4cb1-d402-fdf1e8ceb610"
      },
      "execution_count": null,
      "outputs": [
        {
          "output_type": "stream",
          "name": "stdout",
          "text": [
            "/content/drive/MyDrive/brie_model/data\n"
          ]
        }
      ]
    },
    {
      "cell_type": "code",
      "source": [
        "#!wget https://github.com/YingtongDou/CARE-GNN/raw/master/data/YelpChi.zip && unzip YelpChi.zip"
      ],
      "metadata": {
        "colab": {
          "base_uri": "https://localhost:8080/"
        },
        "id": "4Ir2i576_3pA",
        "outputId": "ab21b18f-89cb-4a29-e2a9-7e91749d321b"
      },
      "execution_count": null,
      "outputs": [
        {
          "output_type": "stream",
          "name": "stdout",
          "text": [
            "--2024-09-04 17:06:36--  https://github.com/YingtongDou/CARE-GNN/raw/master/data/YelpChi.zip\n",
            "Resolving github.com (github.com)... 140.82.113.4\n",
            "Connecting to github.com (github.com)|140.82.113.4|:443... connected.\n",
            "HTTP request sent, awaiting response... 302 Found\n",
            "Location: https://raw.githubusercontent.com/YingtongDou/CARE-GNN/master/data/YelpChi.zip [following]\n",
            "--2024-09-04 17:06:36--  https://raw.githubusercontent.com/YingtongDou/CARE-GNN/master/data/YelpChi.zip\n",
            "Resolving raw.githubusercontent.com (raw.githubusercontent.com)... 185.199.108.133, 185.199.109.133, 185.199.111.133, ...\n",
            "Connecting to raw.githubusercontent.com (raw.githubusercontent.com)|185.199.108.133|:443... connected.\n",
            "HTTP request sent, awaiting response... 200 OK\n",
            "Length: 17980652 (17M) [application/zip]\n",
            "Saving to: ‘YelpChi.zip’\n",
            "\n",
            "YelpChi.zip         100%[===================>]  17.15M  40.6MB/s    in 0.4s    \n",
            "\n",
            "2024-09-04 17:06:37 (40.6 MB/s) - ‘YelpChi.zip’ saved [17980652/17980652]\n",
            "\n",
            "Archive:  YelpChi.zip\n",
            "  inflating: YelpChi.mat             \n"
          ]
        }
      ]
    },
    {
      "cell_type": "code",
      "source": [
        "#!wget https://github.com/YingtongDou/CARE-GNN/raw/master/data/Amazon.zip && unzip Amazon.zip"
      ],
      "metadata": {
        "colab": {
          "base_uri": "https://localhost:8080/"
        },
        "id": "wt_lKuvcAMu6",
        "outputId": "24c923a7-340f-4000-9eab-5c8dcea3ed06"
      },
      "execution_count": null,
      "outputs": [
        {
          "output_type": "stream",
          "name": "stdout",
          "text": [
            "--2024-09-04 17:06:52--  https://github.com/YingtongDou/CARE-GNN/raw/master/data/Amazon.zip\n",
            "Resolving github.com (github.com)... 140.82.113.4\n",
            "Connecting to github.com (github.com)|140.82.113.4|:443... connected.\n",
            "HTTP request sent, awaiting response... 302 Found\n",
            "Location: https://raw.githubusercontent.com/YingtongDou/CARE-GNN/master/data/Amazon.zip [following]\n",
            "--2024-09-04 17:06:52--  https://raw.githubusercontent.com/YingtongDou/CARE-GNN/master/data/Amazon.zip\n",
            "Resolving raw.githubusercontent.com (raw.githubusercontent.com)... 185.199.109.133, 185.199.110.133, 185.199.108.133, ...\n",
            "Connecting to raw.githubusercontent.com (raw.githubusercontent.com)|185.199.109.133|:443... connected.\n",
            "HTTP request sent, awaiting response... 200 OK\n",
            "Length: 26122297 (25M) [application/zip]\n",
            "Saving to: ‘Amazon.zip’\n",
            "\n",
            "Amazon.zip          100%[===================>]  24.91M  51.7MB/s    in 0.5s    \n",
            "\n",
            "2024-09-04 17:06:53 (51.7 MB/s) - ‘Amazon.zip’ saved [26122297/26122297]\n",
            "\n",
            "Archive:  Amazon.zip\n",
            "  inflating: Amazon.mat              \n"
          ]
        }
      ]
    },
    {
      "cell_type": "code",
      "source": [
        "cd .."
      ],
      "metadata": {
        "colab": {
          "base_uri": "https://localhost:8080/"
        },
        "id": "xFOptmODARVb",
        "outputId": "faef380b-9fed-4618-afcb-99a52224d6e2"
      },
      "execution_count": null,
      "outputs": [
        {
          "output_type": "stream",
          "name": "stdout",
          "text": [
            "/content/drive/MyDrive/brie_model\n"
          ]
        }
      ]
    },
    {
      "cell_type": "code",
      "source": [
        "!python src/data_process.py"
      ],
      "metadata": {
        "id": "kf34kOSqAphh"
      },
      "execution_count": null,
      "outputs": []
    },
    {
      "cell_type": "markdown",
      "source": [
        "<br>"
      ],
      "metadata": {
        "id": "yc7J9YCaAYWc"
      }
    },
    {
      "cell_type": "code",
      "source": [
        "!python main.py --config config/brie_yelpchi.yml"
      ],
      "metadata": {
        "colab": {
          "base_uri": "https://localhost:8080/"
        },
        "id": "oUZJbqUsAZUj",
        "outputId": "c7fc36d8-291b-4516-8cef-c67e58ae977f"
      },
      "execution_count": null,
      "outputs": [
        {
          "output_type": "stream",
          "name": "stdout",
          "text": [
            "[09/04 05:10:22 PM][main.py][line:152][INFO] Experiment dir : ./pytorch_models/2024-09-04 17-10-22 yelp BRIE\n",
            "[09/04 05:10:22 PM][main.py][line:167][INFO] **************** MODEL CONFIGURATION ****************\n",
            "[09/04 05:10:22 PM][main.py][line:171][INFO] batch_size               -->   1024\n",
            "[09/04 05:10:22 PM][main.py][line:171][INFO] contra_dim               -->   64\n",
            "[09/04 05:10:22 PM][main.py][line:171][INFO] cuda_id                  -->   0\n",
            "[09/04 05:10:22 PM][main.py][line:171][INFO] data_dir                 -->   ./data/\n",
            "[09/04 05:10:22 PM][main.py][line:171][INFO] data_name                -->   yelp\n",
            "[09/04 05:10:22 PM][main.py][line:171][INFO] emb_size                 -->   64\n",
            "[09/04 05:10:22 PM][main.py][line:171][INFO] exp_name                 -->   2024-09-04 17-10-22 yelp BRIE\n",
            "[09/04 05:10:22 PM][main.py][line:171][INFO] lambda_1                 -->   2\n",
            "[09/04 05:10:22 PM][main.py][line:171][INFO] lr                       -->   0.01\n",
            "[09/04 05:10:22 PM][main.py][line:171][INFO] model                    -->   BRIE\n",
            "[09/04 05:10:22 PM][main.py][line:171][INFO] multi_relation           -->   GNN\n",
            "[09/04 05:10:22 PM][main.py][line:171][INFO] no_cuda                  -->   True\n",
            "[09/04 05:10:22 PM][main.py][line:171][INFO] num_epochs               -->   101\n",
            "[09/04 05:10:22 PM][main.py][line:171][INFO] optimizer                -->   adam\n",
            "[09/04 05:10:22 PM][main.py][line:171][INFO] rho                      -->   0.5\n",
            "[09/04 05:10:22 PM][main.py][line:171][INFO] save_dir                 -->   ./pytorch_models/\n",
            "[09/04 05:10:22 PM][main.py][line:171][INFO] save_scripts             -->   True\n",
            "[09/04 05:10:22 PM][main.py][line:171][INFO] seed                     -->   262\n",
            "[09/04 05:10:22 PM][main.py][line:171][INFO] temperature              -->   0.2\n",
            "[09/04 05:10:22 PM][main.py][line:171][INFO] test_ratio               -->   0.67\n",
            "[09/04 05:10:22 PM][main.py][line:171][INFO] thres                    -->   0.5\n",
            "[09/04 05:10:22 PM][main.py][line:171][INFO] train_ratio              -->   0.4\n",
            "[09/04 05:10:22 PM][main.py][line:171][INFO] undersample              -->   2\n",
            "[09/04 05:10:22 PM][main.py][line:171][INFO] valid_epochs             -->   5\n",
            "[09/04 05:10:22 PM][main.py][line:171][INFO] weight_decay             -->   0.001\n",
            "[09/04 05:10:22 PM][main.py][line:172][INFO] **************** MODEL CONFIGURATION ****************\n",
            "[09/04 05:10:36 PM][model_handler.py][line:58][INFO] Run on yelp, postive/total num: 6677/45954, train num 18381,valid num 9099, test num 18474, test positive num 2684\n",
            "[09/04 05:10:36 PM][model_handler.py][line:60][INFO] Classification threshold: 0.5\n",
            "[09/04 05:10:46 PM][model_handler.py][line:91][INFO] Model: BRIE, multi-relation aggregator: GNN, emb_size: 64.\n",
            "[09/04 05:11:03 PM][model_handler.py][line:212][INFO] Epoch: 0, loss: 2.9813342094421387, time: 14.926099061965942s\n",
            "[09/04 05:11:03 PM][model_handler.py][line:228][INFO] Valid at epoch 0\n",
            "[09/04 05:11:24 PM][utils.py][line:411][INFO]    GNN F1-binary-1: 0.0653\tF1-binary-0: 0.9234\tF1-macro: 0.4944\tF1-micro: 0.8584\tG-Mean: 0.1844\tAUC: 0.8673\tRecall: 0.5187\n",
            "[09/04 05:11:24 PM][utils.py][line:413][INFO]    GNN TP: 45\tTN: 7766\tFN: 1277\tFP: 11\n",
            "[09/04 05:11:24 PM][utils.py][line:414][INFO]    fbeta2_1: 0.04210329341317366\tfbeta4_1: 0.036071293851376834 \trecall_gnn1: 0.0340393343419062\n",
            "[09/04 05:11:24 PM][model_handler.py][line:235][INFO]   Saving model ...\n",
            "[09/04 05:11:40 PM][model_handler.py][line:212][INFO] Epoch: 1, loss: 2.688309669494629, time: 15.356635093688965s\n",
            "[09/04 05:11:55 PM][model_handler.py][line:212][INFO] Epoch: 2, loss: 2.488731622695923, time: 14.78553819656372s\n",
            "[09/04 05:12:10 PM][model_handler.py][line:212][INFO] Epoch: 3, loss: 2.477888345718384, time: 15.4347083568573s\n",
            "[09/04 05:12:25 PM][model_handler.py][line:212][INFO] Epoch: 4, loss: 2.3639895915985107, time: 15.151737213134766s\n",
            "[09/04 05:12:41 PM][model_handler.py][line:212][INFO] Epoch: 5, loss: 2.2091524600982666, time: 15.29663610458374s\n",
            "[09/04 05:12:41 PM][model_handler.py][line:228][INFO] Valid at epoch 5\n",
            "[09/04 05:12:59 PM][utils.py][line:411][INFO]    GNN F1-binary-1: 0.8355\tF1-binary-0: 0.9748\tF1-macro: 0.9052\tF1-micro: 0.9564\tG-Mean: 0.8685\tAUC: 0.9768\tRecall: 0.8791\n",
            "[09/04 05:12:59 PM][utils.py][line:413][INFO]    GNN TP: 1008\tTN: 7694\tFN: 314\tFP: 83\n",
            "[09/04 05:12:59 PM][utils.py][line:414][INFO]    fbeta2_1: 0.7900924909860481\tfbeta4_1: 0.770399676302657 \trecall_gnn1: 0.762481089258699\n",
            "[09/04 05:12:59 PM][model_handler.py][line:235][INFO]   Saving model ...\n",
            "[09/04 05:13:14 PM][model_handler.py][line:212][INFO] Epoch: 6, loss: 2.082951068878174, time: 15.159089088439941s\n",
            "[09/04 05:13:29 PM][model_handler.py][line:212][INFO] Epoch: 7, loss: 2.123443603515625, time: 15.111263513565063s\n",
            "[09/04 05:13:44 PM][model_handler.py][line:212][INFO] Epoch: 8, loss: 2.0659873485565186, time: 15.032109022140503s\n",
            "[09/04 05:13:59 PM][model_handler.py][line:212][INFO] Epoch: 9, loss: 1.9301564693450928, time: 15.308607816696167s\n",
            "[09/04 05:14:14 PM][model_handler.py][line:212][INFO] Epoch: 10, loss: 1.9960378408432007, time: 14.931565284729004s\n",
            "[09/04 05:14:14 PM][model_handler.py][line:228][INFO] Valid at epoch 10\n",
            "[09/04 05:14:31 PM][utils.py][line:411][INFO]    GNN F1-binary-1: 0.8010\tF1-binary-0: 0.9597\tF1-macro: 0.8804\tF1-micro: 0.9330\tG-Mean: 0.9313\tAUC: 0.9803\tRecall: 0.9311\n",
            "[09/04 05:14:31 PM][utils.py][line:413][INFO]    GNN TP: 1228\tTN: 7261\tFN: 94\tFP: 516\n",
            "[09/04 05:14:31 PM][utils.py][line:414][INFO]    fbeta2_1: 0.8731513083048918\tfbeta4_1: 0.9117749825296995 \trecall_gnn1: 0.9288956127080181\n",
            "[09/04 05:14:31 PM][model_handler.py][line:235][INFO]   Saving model ...\n",
            "[09/04 05:14:48 PM][model_handler.py][line:212][INFO] Epoch: 11, loss: 1.846237301826477, time: 16.49716305732727s\n",
            "[09/04 05:15:03 PM][model_handler.py][line:212][INFO] Epoch: 12, loss: 1.8882391452789307, time: 15.474879264831543s\n",
            "[09/04 05:15:18 PM][model_handler.py][line:212][INFO] Epoch: 13, loss: 1.9380629062652588, time: 15.315773963928223s\n",
            "[09/04 05:15:35 PM][model_handler.py][line:212][INFO] Epoch: 14, loss: 1.8840126991271973, time: 16.08608651161194s\n",
            "[09/04 05:15:50 PM][model_handler.py][line:212][INFO] Epoch: 15, loss: 1.8076859712600708, time: 15.369182109832764s\n",
            "[09/04 05:15:50 PM][model_handler.py][line:228][INFO] Valid at epoch 15\n",
            "[09/04 05:16:07 PM][utils.py][line:411][INFO]    GNN F1-binary-1: 0.8814\tF1-binary-0: 0.9800\tF1-macro: 0.9307\tF1-micro: 0.9657\tG-Mean: 0.9273\tAUC: 0.9834\tRecall: 0.9305\n",
            "[09/04 05:16:07 PM][utils.py][line:413][INFO]    GNN TP: 1159\tTN: 7628\tFN: 163\tFP: 149\n",
            "[09/04 05:16:07 PM][utils.py][line:414][INFO]    fbeta2_1: 0.8785627653123106\tfbeta4_1: 0.8772484416740873 \trecall_gnn1: 0.8767019667170953\n",
            "[09/04 05:16:07 PM][model_handler.py][line:235][INFO]   Saving model ...\n",
            "[09/04 05:16:22 PM][model_handler.py][line:212][INFO] Epoch: 16, loss: 1.7737972736358643, time: 15.414941310882568s\n",
            "[09/04 05:16:37 PM][model_handler.py][line:212][INFO] Epoch: 17, loss: 1.8298815488815308, time: 14.802434921264648s\n",
            "[09/04 05:16:52 PM][model_handler.py][line:212][INFO] Epoch: 18, loss: 1.755088210105896, time: 14.630701541900635s\n",
            "[09/04 05:17:07 PM][model_handler.py][line:212][INFO] Epoch: 19, loss: 1.8349640369415283, time: 15.39120888710022s\n",
            "[09/04 05:17:22 PM][model_handler.py][line:212][INFO] Epoch: 20, loss: 1.6973975896835327, time: 14.759657144546509s\n",
            "[09/04 05:17:22 PM][model_handler.py][line:228][INFO] Valid at epoch 20\n",
            "[09/04 05:17:39 PM][utils.py][line:411][INFO]    GNN F1-binary-1: 0.8619\tF1-binary-0: 0.9791\tF1-macro: 0.9205\tF1-micro: 0.9637\tG-Mean: 0.8805\tAUC: 0.9844\tRecall: 0.8931\n",
            "[09/04 05:17:39 PM][utils.py][line:413][INFO]    GNN TP: 1030\tTN: 7739\tFN: 292\tFP: 38\n",
            "[09/04 05:17:39 PM][utils.py][line:414][INFO]    fbeta2_1: 0.8102580239144116\tfbeta4_1: 0.7880288028802879 \trecall_gnn1: 0.7791225416036308\n",
            "[09/04 05:17:39 PM][model_handler.py][line:235][INFO]   Saving model ...\n",
            "[09/04 05:17:54 PM][model_handler.py][line:212][INFO] Epoch: 21, loss: 1.7584526538848877, time: 14.891886711120605s\n",
            "[09/04 05:18:09 PM][model_handler.py][line:212][INFO] Epoch: 22, loss: 1.7595466375350952, time: 15.548350811004639s\n",
            "[09/04 05:18:24 PM][model_handler.py][line:212][INFO] Epoch: 23, loss: 1.730377197265625, time: 14.941482782363892s\n",
            "[09/04 05:18:39 PM][model_handler.py][line:212][INFO] Epoch: 24, loss: 1.7336360216140747, time: 15.010298013687134s\n",
            "[09/04 05:18:55 PM][model_handler.py][line:212][INFO] Epoch: 25, loss: 1.809072732925415, time: 15.693791389465332s\n",
            "[09/04 05:18:55 PM][model_handler.py][line:228][INFO] Valid at epoch 25\n",
            "[09/04 05:19:13 PM][utils.py][line:411][INFO]    GNN F1-binary-1: 0.8880\tF1-binary-0: 0.9807\tF1-macro: 0.9343\tF1-micro: 0.9670\tG-Mean: 0.9381\tAUC: 0.9860\tRecall: 0.9406\n",
            "[09/04 05:19:13 PM][utils.py][line:413][INFO]    GNN TP: 1189\tTN: 7610\tFN: 133\tFP: 167\n",
            "[09/04 05:19:13 PM][utils.py][line:414][INFO]    fbeta2_1: 0.8947922937989163\tfbeta4_1: 0.898036253776435 \trecall_gnn1: 0.8993948562783661\n",
            "[09/04 05:19:13 PM][model_handler.py][line:235][INFO]   Saving model ...\n",
            "[09/04 05:19:28 PM][model_handler.py][line:212][INFO] Epoch: 26, loss: 1.764624834060669, time: 14.762131214141846s\n",
            "[09/04 05:19:44 PM][model_handler.py][line:212][INFO] Epoch: 27, loss: 1.744697093963623, time: 15.307706117630005s\n",
            "[09/04 05:19:58 PM][model_handler.py][line:212][INFO] Epoch: 28, loss: 1.7630378007888794, time: 14.548198223114014s\n",
            "[09/04 05:20:13 PM][model_handler.py][line:212][INFO] Epoch: 29, loss: 1.7317044734954834, time: 15.129258871078491s\n",
            "[09/04 05:20:29 PM][model_handler.py][line:212][INFO] Epoch: 30, loss: 1.7202452421188354, time: 15.31129789352417s\n",
            "[09/04 05:20:29 PM][model_handler.py][line:228][INFO] Valid at epoch 30\n",
            "[09/04 05:20:47 PM][utils.py][line:411][INFO]    GNN F1-binary-1: 0.8918\tF1-binary-0: 0.9818\tF1-macro: 0.9368\tF1-micro: 0.9688\tG-Mean: 0.9327\tAUC: 0.9857\tRecall: 0.9339\n",
            "[09/04 05:20:47 PM][utils.py][line:413][INFO]    GNN TP: 1170\tTN: 7645\tFN: 152\tFP: 132\n",
            "[09/04 05:20:47 PM][utils.py][line:414][INFO]    fbeta2_1: 0.8877086494688923\tfbeta4_1: 0.8858109913601139 \trecall_gnn1: 0.8850226928895613\n",
            "[09/04 05:21:02 PM][model_handler.py][line:212][INFO] Epoch: 31, loss: 1.633297085762024, time: 14.724596500396729s\n",
            "[09/04 05:21:18 PM][model_handler.py][line:212][INFO] Epoch: 32, loss: 1.733443021774292, time: 15.601977825164795s\n",
            "[09/04 05:21:38 PM][model_handler.py][line:212][INFO] Epoch: 33, loss: 1.7891486883163452, time: 19.99186658859253s\n",
            "[09/04 05:21:53 PM][model_handler.py][line:212][INFO] Epoch: 34, loss: 1.7275471687316895, time: 14.903704643249512s\n",
            "[09/04 05:22:08 PM][model_handler.py][line:212][INFO] Epoch: 35, loss: 1.6651208400726318, time: 15.331149101257324s\n",
            "[09/04 05:22:08 PM][model_handler.py][line:228][INFO] Valid at epoch 35\n",
            "[09/04 05:22:25 PM][utils.py][line:411][INFO]    GNN F1-binary-1: 0.8752\tF1-binary-0: 0.9778\tF1-macro: 0.9265\tF1-micro: 0.9623\tG-Mean: 0.9401\tAUC: 0.9859\tRecall: 0.9407\n",
            "[09/04 05:22:25 PM][utils.py][line:413][INFO]    GNN TP: 1203\tTN: 7553\tFN: 119\tFP: 224\n",
            "[09/04 05:22:25 PM][utils.py][line:414][INFO]    fbeta2_1: 0.8957557706626953\tfbeta4_1: 0.9057531334425795 \trecall_gnn1: 0.9099848714069592\n",
            "[09/04 05:22:40 PM][model_handler.py][line:212][INFO] Epoch: 36, loss: 1.6512995958328247, time: 14.990445375442505s\n",
            "[09/04 05:22:55 PM][model_handler.py][line:212][INFO] Epoch: 37, loss: 1.7238589525222778, time: 15.261064052581787s\n",
            "[09/04 05:23:10 PM][model_handler.py][line:212][INFO] Epoch: 38, loss: 1.787302017211914, time: 14.807625770568848s\n",
            "[09/04 05:23:25 PM][model_handler.py][line:212][INFO] Epoch: 39, loss: 1.7247873544692993, time: 14.816952466964722s\n",
            "[09/04 05:23:40 PM][model_handler.py][line:212][INFO] Epoch: 40, loss: 1.721513271331787, time: 15.2885103225708s\n",
            "[09/04 05:23:40 PM][model_handler.py][line:228][INFO] Valid at epoch 40\n",
            "[09/04 05:23:57 PM][utils.py][line:411][INFO]    GNN F1-binary-1: 0.8730\tF1-binary-0: 0.9773\tF1-macro: 0.9252\tF1-micro: 0.9615\tG-Mean: 0.9397\tAUC: 0.9864\tRecall: 0.9419\n",
            "[09/04 05:23:57 PM][utils.py][line:413][INFO]    GNN TP: 1203\tTN: 7546\tFN: 119\tFP: 231\n",
            "[09/04 05:23:57 PM][utils.py][line:414][INFO]    fbeta2_1: 0.8948229693543589\tfbeta4_1: 0.9054724165412202 \trecall_gnn1: 0.9099848714069592\n",
            "[09/04 05:23:57 PM][model_handler.py][line:235][INFO]   Saving model ...\n",
            "[09/04 05:24:14 PM][model_handler.py][line:212][INFO] Epoch: 41, loss: 1.8024351596832275, time: 15.86621642112732s\n",
            "[09/04 05:24:29 PM][model_handler.py][line:212][INFO] Epoch: 42, loss: 1.7028169631958008, time: 15.764166593551636s\n",
            "[09/04 05:24:45 PM][model_handler.py][line:212][INFO] Epoch: 43, loss: 1.7312676906585693, time: 15.697471380233765s\n",
            "[09/04 05:25:01 PM][model_handler.py][line:212][INFO] Epoch: 44, loss: 1.7738877534866333, time: 15.613712310791016s\n",
            "[09/04 05:25:16 PM][model_handler.py][line:212][INFO] Epoch: 45, loss: 1.6798840761184692, time: 15.626356840133667s\n",
            "[09/04 05:25:16 PM][model_handler.py][line:228][INFO] Valid at epoch 45\n",
            "[09/04 05:25:33 PM][utils.py][line:411][INFO]    GNN F1-binary-1: 0.8863\tF1-binary-0: 0.9817\tF1-macro: 0.9340\tF1-micro: 0.9685\tG-Mean: 0.9150\tAUC: 0.9867\tRecall: 0.9197\n",
            "[09/04 05:25:33 PM][utils.py][line:413][INFO]    GNN TP: 1119\tTN: 7693\tFN: 203\tFP: 84\n",
            "[09/04 05:25:33 PM][utils.py][line:414][INFO]    fbeta2_1: 0.8619627176089971\tfbeta4_1: 0.8509505703422053 \trecall_gnn1: 0.846444780635401\n",
            "[09/04 05:25:33 PM][model_handler.py][line:235][INFO]   Saving model ...\n",
            "[09/04 05:25:48 PM][model_handler.py][line:212][INFO] Epoch: 46, loss: 1.7113350629806519, time: 15.013461828231812s\n",
            "[09/04 05:26:04 PM][model_handler.py][line:212][INFO] Epoch: 47, loss: 1.6817244291305542, time: 15.592898845672607s\n",
            "[09/04 05:26:19 PM][model_handler.py][line:212][INFO] Epoch: 48, loss: 1.7244908809661865, time: 14.983468294143677s\n",
            "[09/04 05:26:34 PM][model_handler.py][line:212][INFO] Epoch: 49, loss: 1.6468428373336792, time: 14.914070129394531s\n",
            "[09/04 05:26:49 PM][model_handler.py][line:212][INFO] Epoch: 50, loss: 1.7478960752487183, time: 14.883488416671753s\n",
            "[09/04 05:26:49 PM][model_handler.py][line:228][INFO] Valid at epoch 50\n",
            "[09/04 05:27:07 PM][utils.py][line:411][INFO]    GNN F1-binary-1: 0.8612\tF1-binary-0: 0.9789\tF1-macro: 0.9201\tF1-micro: 0.9634\tG-Mean: 0.8815\tAUC: 0.9858\tRecall: 0.8887\n",
            "[09/04 05:27:07 PM][utils.py][line:413][INFO]    GNN TP: 1033\tTN: 7733\tFN: 289\tFP: 44\n",
            "[09/04 05:27:07 PM][utils.py][line:414][INFO]    fbeta2_1: 0.8114689709347996\tfbeta4_1: 0.7900040487651266 \trecall_gnn1: 0.7813918305597579\n",
            "[09/04 05:27:22 PM][model_handler.py][line:212][INFO] Epoch: 51, loss: 1.7081671953201294, time: 14.808559894561768s\n",
            "[09/04 05:27:37 PM][model_handler.py][line:212][INFO] Epoch: 52, loss: 1.6554818153381348, time: 14.802447080612183s\n",
            "[09/04 05:27:52 PM][model_handler.py][line:212][INFO] Epoch: 53, loss: 1.6588115692138672, time: 15.535241842269897s\n",
            "[09/04 05:28:07 PM][model_handler.py][line:212][INFO] Epoch: 54, loss: 1.8143501281738281, time: 14.845237970352173s\n",
            "[09/04 05:28:22 PM][model_handler.py][line:212][INFO] Epoch: 55, loss: 1.7487634420394897, time: 14.815285682678223s\n",
            "[09/04 05:28:22 PM][model_handler.py][line:228][INFO] Valid at epoch 55\n",
            "[09/04 05:28:39 PM][utils.py][line:411][INFO]    GNN F1-binary-1: 0.8170\tF1-binary-0: 0.9632\tF1-macro: 0.8901\tF1-micro: 0.9388\tG-Mean: 0.9394\tAUC: 0.9862\tRecall: 0.9382\n",
            "[09/04 05:28:39 PM][utils.py][line:413][INFO]    GNN TP: 1243\tTN: 7299\tFN: 79\tFP: 478\n",
            "[09/04 05:28:39 PM][utils.py][line:414][INFO]    fbeta2_1: 0.8867170780425168\tfbeta4_1: 0.9238403357670616 \trecall_gnn1: 0.9402420574886535\n",
            "[09/04 05:28:54 PM][model_handler.py][line:212][INFO] Epoch: 56, loss: 1.6730257272720337, time: 14.716235637664795s\n",
            "[09/04 05:29:11 PM][model_handler.py][line:212][INFO] Epoch: 57, loss: 1.774649977684021, time: 16.852710485458374s\n",
            "[09/04 05:29:27 PM][model_handler.py][line:212][INFO] Epoch: 58, loss: 1.690667986869812, time: 16.36730694770813s\n",
            "[09/04 05:29:44 PM][model_handler.py][line:212][INFO] Epoch: 59, loss: 1.721358299255371, time: 16.679876804351807s\n",
            "[09/04 05:30:00 PM][model_handler.py][line:212][INFO] Epoch: 60, loss: 1.7901415824890137, time: 16.279877185821533s\n",
            "[09/04 05:30:00 PM][model_handler.py][line:228][INFO] Valid at epoch 60\n",
            "[09/04 05:30:19 PM][utils.py][line:411][INFO]    GNN F1-binary-1: 0.8453\tF1-binary-0: 0.9704\tF1-macro: 0.9079\tF1-micro: 0.9503\tG-Mean: 0.9436\tAUC: 0.9864\tRecall: 0.9430\n",
            "[09/04 05:30:19 PM][utils.py][line:413][INFO]    GNN TP: 1235\tTN: 7412\tFN: 87\tFP: 365\n",
            "[09/04 05:30:19 PM][utils.py][line:414][INFO]    fbeta2_1: 0.8964866434378629\tfbeta4_1: 0.9227760196905767 \trecall_gnn1: 0.9341906202723147\n",
            "[09/04 05:30:34 PM][model_handler.py][line:212][INFO] Epoch: 61, loss: 1.8213090896606445, time: 14.895256996154785s\n",
            "[09/04 05:30:49 PM][model_handler.py][line:212][INFO] Epoch: 62, loss: 1.7291231155395508, time: 14.807906866073608s\n",
            "[09/04 05:31:04 PM][model_handler.py][line:212][INFO] Epoch: 63, loss: 1.6954253911972046, time: 15.377843856811523s\n",
            "[09/04 05:31:19 PM][model_handler.py][line:212][INFO] Epoch: 64, loss: 1.7403050661087036, time: 15.102181911468506s\n",
            "[09/04 05:31:42 PM][model_handler.py][line:212][INFO] Epoch: 65, loss: 1.6420776844024658, time: 22.274820804595947s\n",
            "[09/04 05:31:42 PM][model_handler.py][line:228][INFO] Valid at epoch 65\n",
            "[09/04 05:31:59 PM][utils.py][line:411][INFO]    GNN F1-binary-1: 0.8514\tF1-binary-0: 0.9718\tF1-macro: 0.9116\tF1-micro: 0.9526\tG-Mean: 0.9449\tAUC: 0.9869\tRecall: 0.9446\n",
            "[09/04 05:31:59 PM][utils.py][line:413][INFO]    GNN TP: 1235\tTN: 7433\tFN: 87\tFP: 344\n",
            "[09/04 05:31:59 PM][utils.py][line:414][INFO]    fbeta2_1: 0.8992281928061745\tfbeta4_1: 0.9236285249219128 \trecall_gnn1: 0.9341906202723147\n",
            "[09/04 05:31:59 PM][model_handler.py][line:235][INFO]   Saving model ...\n",
            "[09/04 05:32:15 PM][model_handler.py][line:212][INFO] Epoch: 66, loss: 1.6933985948562622, time: 15.825258493423462s\n",
            "[09/04 05:32:30 PM][model_handler.py][line:212][INFO] Epoch: 67, loss: 1.6979930400848389, time: 15.060129880905151s\n",
            "[09/04 05:32:45 PM][model_handler.py][line:212][INFO] Epoch: 68, loss: 1.668675184249878, time: 14.981404542922974s\n",
            "[09/04 05:33:00 PM][model_handler.py][line:212][INFO] Epoch: 69, loss: 1.7157015800476074, time: 15.424710988998413s\n",
            "[09/04 05:33:17 PM][model_handler.py][line:212][INFO] Epoch: 70, loss: 1.6613103151321411, time: 16.631438493728638s\n",
            "[09/04 05:33:17 PM][model_handler.py][line:228][INFO] Valid at epoch 70\n",
            "[09/04 05:33:35 PM][utils.py][line:411][INFO]    GNN F1-binary-1: 0.8888\tF1-binary-0: 0.9809\tF1-macro: 0.9349\tF1-micro: 0.9675\tG-Mean: 0.9364\tAUC: 0.9872\tRecall: 0.9377\n",
            "[09/04 05:33:35 PM][utils.py][line:413][INFO]    GNN TP: 1183\tTN: 7620\tFN: 139\tFP: 157\n",
            "[09/04 05:33:35 PM][utils.py][line:414][INFO]    fbeta2_1: 0.8924260712130357\tfbeta4_1: 0.894140138715988 \trecall_gnn1: 0.8948562783661119\n",
            "[09/04 05:33:35 PM][model_handler.py][line:235][INFO]   Saving model ...\n",
            "[09/04 05:33:51 PM][model_handler.py][line:212][INFO] Epoch: 71, loss: 1.6717534065246582, time: 15.373425722122192s\n",
            "[09/04 05:34:06 PM][model_handler.py][line:212][INFO] Epoch: 72, loss: 1.6727566719055176, time: 14.994133234024048s\n",
            "[09/04 05:34:21 PM][model_handler.py][line:212][INFO] Epoch: 73, loss: 1.6529898643493652, time: 14.880396127700806s\n",
            "[09/04 05:34:36 PM][model_handler.py][line:212][INFO] Epoch: 74, loss: 1.7982159852981567, time: 15.593553304672241s\n",
            "[09/04 05:34:51 PM][model_handler.py][line:212][INFO] Epoch: 75, loss: 1.7145758867263794, time: 14.762303590774536s\n",
            "[09/04 05:34:51 PM][model_handler.py][line:228][INFO] Valid at epoch 75\n",
            "[09/04 05:35:08 PM][utils.py][line:411][INFO]    GNN F1-binary-1: 0.8491\tF1-binary-0: 0.9714\tF1-macro: 0.9102\tF1-micro: 0.9520\tG-Mean: 0.9426\tAUC: 0.9868\tRecall: 0.9424\n",
            "[09/04 05:35:08 PM][utils.py][line:413][INFO]    GNN TP: 1229\tTN: 7433\tFN: 93\tFP: 344\n",
            "[09/04 05:35:08 PM][utils.py][line:414][INFO]    fbeta2_1: 0.8956420346888209\tfbeta4_1: 0.9193839383938394 \trecall_gnn1: 0.9296520423600605\n",
            "[09/04 05:35:24 PM][model_handler.py][line:212][INFO] Epoch: 76, loss: 1.6590235233306885, time: 15.402985334396362s\n",
            "[09/04 05:35:38 PM][model_handler.py][line:212][INFO] Epoch: 77, loss: 1.7785735130310059, time: 14.866508483886719s\n",
            "[09/04 05:35:53 PM][model_handler.py][line:212][INFO] Epoch: 78, loss: 1.6851612329483032, time: 14.745413303375244s\n",
            "[09/04 05:36:09 PM][model_handler.py][line:212][INFO] Epoch: 79, loss: 1.5742149353027344, time: 16.026344776153564s\n",
            "[09/04 05:36:25 PM][model_handler.py][line:212][INFO] Epoch: 80, loss: 1.6969449520111084, time: 15.334861755371094s\n",
            "[09/04 05:36:25 PM][model_handler.py][line:228][INFO] Valid at epoch 80\n",
            "[09/04 05:36:42 PM][utils.py][line:411][INFO]    GNN F1-binary-1: 0.8884\tF1-binary-0: 0.9816\tF1-macro: 0.9350\tF1-micro: 0.9683\tG-Mean: 0.9243\tAUC: 0.9871\tRecall: 0.9271\n",
            "[09/04 05:36:42 PM][utils.py][line:413][INFO]    GNN TP: 1146\tTN: 7665\tFN: 176\tFP: 112\n",
            "[09/04 05:36:42 PM][utils.py][line:414][INFO]    fbeta2_1: 0.8753437213565537\tfbeta4_1: 0.8693440428380188 \trecall_gnn1: 0.8668683812405447\n",
            "[09/04 05:36:57 PM][model_handler.py][line:212][INFO] Epoch: 81, loss: 1.630096197128296, time: 15.414160966873169s\n",
            "[09/04 05:37:12 PM][model_handler.py][line:212][INFO] Epoch: 82, loss: 1.6757439374923706, time: 14.953765392303467s\n",
            "[09/04 05:37:28 PM][model_handler.py][line:212][INFO] Epoch: 83, loss: 1.7652332782745361, time: 15.81934905052185s\n",
            "[09/04 05:37:44 PM][model_handler.py][line:212][INFO] Epoch: 84, loss: 1.6880061626434326, time: 16.169876098632812s\n",
            "[09/04 05:37:59 PM][model_handler.py][line:212][INFO] Epoch: 85, loss: 1.7626442909240723, time: 14.85498833656311s\n",
            "[09/04 05:37:59 PM][model_handler.py][line:228][INFO] Valid at epoch 85\n",
            "[09/04 05:38:16 PM][utils.py][line:411][INFO]    GNN F1-binary-1: 0.8892\tF1-binary-0: 0.9819\tF1-macro: 0.9356\tF1-micro: 0.9689\tG-Mean: 0.9212\tAUC: 0.9873\tRecall: 0.9242\n",
            "[09/04 05:38:16 PM][utils.py][line:413][INFO]    GNN TP: 1136\tTN: 7680\tFN: 186\tFP: 97\n",
            "[09/04 05:38:16 PM][utils.py][line:414][INFO]    fbeta2_1: 0.8710320502990337\tfbeta4_1: 0.8627205718114809 \trecall_gnn1: 0.859304084720121\n",
            "[09/04 05:38:16 PM][model_handler.py][line:235][INFO]   Saving model ...\n",
            "[09/04 05:38:33 PM][model_handler.py][line:212][INFO] Epoch: 86, loss: 1.6646459102630615, time: 16.02420163154602s\n",
            "[09/04 05:38:48 PM][model_handler.py][line:212][INFO] Epoch: 87, loss: 1.7627044916152954, time: 15.375126123428345s\n",
            "[09/04 05:39:03 PM][model_handler.py][line:212][INFO] Epoch: 88, loss: 1.6673725843429565, time: 15.002631425857544s\n",
            "[09/04 05:39:18 PM][model_handler.py][line:212][INFO] Epoch: 89, loss: 1.6390924453735352, time: 14.955506801605225s\n",
            "[09/04 05:39:34 PM][model_handler.py][line:212][INFO] Epoch: 90, loss: 1.6496398448944092, time: 15.438997507095337s\n",
            "[09/04 05:39:34 PM][model_handler.py][line:228][INFO] Valid at epoch 90\n",
            "[09/04 05:39:50 PM][utils.py][line:411][INFO]    GNN F1-binary-1: 0.8876\tF1-binary-0: 0.9814\tF1-macro: 0.9345\tF1-micro: 0.9681\tG-Mean: 0.9239\tAUC: 0.9874\tRecall: 0.9270\n",
            "[09/04 05:39:50 PM][utils.py][line:413][INFO]    GNN TP: 1145\tTN: 7664\tFN: 177\tFP: 113\n",
            "[09/04 05:39:50 PM][utils.py][line:414][INFO]    fbeta2_1: 0.8745798961197678\tfbeta4_1: 0.8685854529228023 \trecall_gnn1: 0.8661119515885023\n",
            "[09/04 05:39:50 PM][model_handler.py][line:235][INFO]   Saving model ...\n",
            "[09/04 05:40:06 PM][model_handler.py][line:212][INFO] Epoch: 91, loss: 1.590417742729187, time: 15.296939611434937s\n",
            "[09/04 05:40:22 PM][model_handler.py][line:212][INFO] Epoch: 92, loss: 1.7407833337783813, time: 15.620243549346924s\n",
            "[09/04 05:40:37 PM][model_handler.py][line:212][INFO] Epoch: 93, loss: 1.7535566091537476, time: 14.962890148162842s\n",
            "[09/04 05:40:51 PM][model_handler.py][line:212][INFO] Epoch: 94, loss: 1.694090485572815, time: 14.77404260635376s\n",
            "[09/04 05:41:06 PM][model_handler.py][line:212][INFO] Epoch: 95, loss: 1.689597487449646, time: 14.81348443031311s\n",
            "[09/04 05:41:06 PM][model_handler.py][line:228][INFO] Valid at epoch 95\n",
            "[09/04 05:41:25 PM][utils.py][line:411][INFO]    GNN F1-binary-1: 0.8421\tF1-binary-0: 0.9694\tF1-macro: 0.9058\tF1-micro: 0.9488\tG-Mean: 0.9452\tAUC: 0.9874\tRecall: 0.9446\n",
            "[09/04 05:41:25 PM][utils.py][line:413][INFO]    GNN TP: 1243\tTN: 7390\tFN: 79\tFP: 387\n",
            "[09/04 05:41:25 PM][utils.py][line:414][INFO]    fbeta2_1: 0.8983810349812085\tfbeta4_1: 0.9275305065402509 \trecall_gnn1: 0.9402420574886535\n",
            "[09/04 05:41:25 PM][model_handler.py][line:235][INFO]   Saving model ...\n",
            "[09/04 05:41:40 PM][model_handler.py][line:212][INFO] Epoch: 96, loss: 1.7260568141937256, time: 15.06254768371582s\n",
            "[09/04 05:42:02 PM][model_handler.py][line:212][INFO] Epoch: 97, loss: 1.7402924299240112, time: 21.705670833587646s\n",
            "[09/04 05:42:17 PM][model_handler.py][line:212][INFO] Epoch: 98, loss: 1.6989200115203857, time: 15.297538995742798s\n",
            "[09/04 05:42:32 PM][model_handler.py][line:212][INFO] Epoch: 99, loss: 1.7205101251602173, time: 15.073417901992798s\n",
            "[09/04 05:42:47 PM][model_handler.py][line:212][INFO] Epoch: 100, loss: 1.7525579929351807, time: 15.003769636154175s\n",
            "[09/04 05:42:47 PM][model_handler.py][line:228][INFO] Valid at epoch 100\n",
            "[09/04 05:43:06 PM][utils.py][line:411][INFO]    GNN F1-binary-1: 0.8693\tF1-binary-0: 0.9762\tF1-macro: 0.9228\tF1-micro: 0.9597\tG-Mean: 0.9445\tAUC: 0.9875\tRecall: 0.9448\n",
            "[09/04 05:43:06 PM][utils.py][line:413][INFO]    GNN TP: 1221\tTN: 7511\tFN: 101\tFP: 266\n",
            "[09/04 05:43:06 PM][utils.py][line:414][INFO]    fbeta2_1: 0.9011070110701107\tfbeta4_1: 0.9168691196607625 \trecall_gnn1: 0.9236006051437217\n",
            "[09/04 05:43:06 PM][model_handler.py][line:235][INFO]   Saving model ...\n",
            "[09/04 05:43:06 PM][model_handler.py][line:238][INFO] Restore model from epoch 100\n",
            "[09/04 05:43:06 PM][model_handler.py][line:239][INFO] Model path: ./pytorch_models/2024-09-04 17-10-22 yelp BRIE/yelp_BRIE.pkl\n",
            "/content/drive/MyDrive/brie_model/src/model_handler.py:240: FutureWarning: You are using `torch.load` with `weights_only=False` (the current default value), which uses the default pickle module implicitly. It is possible to construct malicious pickle data which will execute arbitrary code during unpickling (See https://github.com/pytorch/pytorch/blob/main/SECURITY.md#untrusted-models for more details). In a future release, the default value for `weights_only` will be flipped to `True`. This limits the functions that could be executed during unpickling. Arbitrary objects will no longer be allowed to be loaded via this mode unless they are explicitly allowlisted by the user via `torch.serialization.add_safe_globals`. We recommend you start setting `weights_only=True` for any use case where you don't have full control of the loaded file. Please open an issue on GitHub for any issues related to this experimental feature.\n",
            "  gnn_model.load_state_dict(torch.load(path_saver))\n",
            "[09/04 05:43:41 PM][utils.py][line:411][INFO]    GNN F1-binary-1: 0.8720\tF1-binary-0: 0.9766\tF1-macro: 0.9243\tF1-micro: 0.9604\tG-Mean: 0.9467\tAUC: 0.9891\tRecall: 0.9485\n",
            "[09/04 05:43:41 PM][utils.py][line:413][INFO]    GNN TP: 2490\tTN: 15253\tFN: 194\tFP: 537\n",
            "[09/04 05:43:41 PM][utils.py][line:414][INFO]    fbeta2_1: 0.904599287945942\tfbeta4_1: 0.920797894324683 \trecall_gnn1: 0.9277198211624441\n",
            "[09/04 05:43:41 PM][main.py][line:37][INFO] F1-Macro: 0.9242998328418263\n",
            "[09/04 05:43:41 PM][main.py][line:38][INFO] AUC: 0.9891267086924226\n",
            "[09/04 05:43:41 PM][main.py][line:39][INFO] G-Mean: 0.9466620948018836\n",
            "[09/04 05:43:41 PM][main.py][line:40][INFO] Recall: 0.9484762703549517\n",
            "[09/04 05:43:41 PM][main.py][line:41][INFO] Fbeta_2_1 0.904599287945942\n",
            "[09/04 05:43:41 PM][main.py][line:42][INFO] Fbeta_4_1 0.920797894324683\n",
            "[09/04 05:43:41 PM][main.py][line:43][INFO] Recall_gnn1 0.9277198211624441\n"
          ]
        }
      ]
    }
  ]
}